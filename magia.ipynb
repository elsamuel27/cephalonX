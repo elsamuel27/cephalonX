{
 "cells": [
  {
   "attachments": {},
   "cell_type": "markdown",
   "metadata": {},
   "source": [
    "## Importaciones"
   ]
  },
  {
   "cell_type": "code",
   "execution_count": 3,
   "metadata": {},
   "outputs": [],
   "source": [
    "import pandas as pd\n",
    "import numpy as np\n",
    "import tensorflow as tf\n",
    "import os"
   ]
  },
  {
   "attachments": {},
   "cell_type": "markdown",
   "metadata": {},
   "source": [
    "## Cargar datos"
   ]
  },
  {
   "attachments": {},
   "cell_type": "markdown",
   "metadata": {},
   "source": [
    "He plasmado todos los datos dentro de archivos CSV, que están en la carpeta [\"data\"](data/), por lo que ahora para cargarlos sólo hay que crear un DataFrame de Pandas vacío y juntar en él los datos de todos los archivos. Un bucle \"for\" nos hace el trabajo independientemente de que agregue más archivos en un futuro"
   ]
  },
  {
   "cell_type": "code",
   "execution_count": 6,
   "metadata": {},
   "outputs": [],
   "source": [
    "dataset = pd.DataFrame()\n",
    "\n",
    "for file in os.listdir(\"./data\"):\n",
    "    dataset = pd.concat([dataset, pd.read_csv(os.path.join(\"./data\", file), delimiter=\",\", quotechar='\"', header=None)])"
   ]
  },
  {
   "attachments": {},
   "cell_type": "markdown",
   "metadata": {},
   "source": [
    "Ya que es interesante que las respuestas tengan elementos escritos en MarkDown, pero no se pueden guardar en CSV, ésta es la solución:\n",
    "- Creamos una \"sintaxis\" nueva en la que representamos los elementos con otros caracteres que sí podamos tener en CSV\n",
    "- Definimos esa sintaxis en un diccionario dentro del código, guardando cada representación junto con su elemento\n",
    "- Usamos un bucle for para reemplazar todo en el DataFrame, ya que en el CSV no podíamos tenerlos pero en el DataFrame sí"
   ]
  },
  {
   "cell_type": "code",
   "execution_count": 9,
   "metadata": {},
   "outputs": [],
   "source": [
    "markdown = {\n",
    "    \"&001\": \"\\n\"\n",
    "}"
   ]
  },
  {
   "cell_type": "code",
   "execution_count": 13,
   "metadata": {},
   "outputs": [],
   "source": [
    "for a, n in markdown.items():\n",
    "    dataset[1] = dataset[1].str.replace(a, n)"
   ]
  },
  {
   "cell_type": "code",
   "execution_count": 12,
   "metadata": {},
   "outputs": [
    {
     "name": "stdout",
     "output_type": "stream",
     "text": [
      "                    ¿Qué es una reliquia?  \\\n",
      "0  ¿Qué puedes conseguir de una reliquia?   \n",
      "0                                     NaN   \n",
      "\n",
      "  Si has jugado otros juegos, por suerte o por desgracia sabrás que hay unas cajas que compras por dinero real y te pueden tocar elementos aleatorios del juego. Bien, Warframe tiene un elemento similar pero que no es de pago; las reliquias  \\\n",
      "0  Lo más \"exclusivo\" que pueden darte son piezas...                                                                                                                                                                                              \n",
      "0                                                NaN                                                                                                                                                                                              \n",
      "\n",
      "     ¿Qué modelo eres?  \\\n",
      "0                  NaN   \n",
      "0  ¿Quién te ha hecho?   \n",
      "\n",
      "  Soy Cephalon X, el céfalon más inteligente hasta la fecha. He sido diseñado para responder a todas las preguntas que el sistema origen te haya hecho cuestionarte. Por favor, siéntete libre de preguntar lo que quieras  \n",
      "0                                                NaN                                                                                                                                                                        \n",
      "0  Mi creador se llama Samuel, pero la verdad es ...                                                                                                                                                                        \n"
     ]
    }
   ],
   "source": [
    "print(dataset)"
   ]
  },
  {
   "attachments": {},
   "cell_type": "markdown",
   "metadata": {},
   "source": [
    "## Preparación"
   ]
  },
  {
   "attachments": {},
   "cell_type": "markdown",
   "metadata": {},
   "source": [
    "Uno no prepara los datos y comienza el entrenamiento ya, hay que hacer un par de cosas primero. Entre ellas, configurar un checkpointer"
   ]
  },
  {
   "cell_type": "code",
   "execution_count": null,
   "metadata": {},
   "outputs": [],
   "source": [
    "checkpointer = tf.keras.callbacks.ModelCheckpoint(\n",
    "    filepath=\"./checkpoints/model.tf\"\n",
    "    monitor=\"val_loss\"\n",
    "    mode=min\n",
    "    save_best_only=True\n",
    ")"
   ]
  },
  {
   "attachments": {},
   "cell_type": "markdown",
   "metadata": {},
   "source": [
    "Éste objeto de Keras se encarga de ir guardando el modelo en mitad del entrenamiento. Al no tener ninguna variable el nombre (aunque se le podrían poner), en la ruta sólo va a haber un modelo siempre, y gracias al resto de parámetros, siempre será el que haya sacado la pérdida de validación (val_loss) más baja"
   ]
  }
 ],
 "metadata": {
  "kernelspec": {
   "display_name": "Python 3",
   "language": "python",
   "name": "python3"
  },
  "language_info": {
   "codemirror_mode": {
    "name": "ipython",
    "version": 3
   },
   "file_extension": ".py",
   "mimetype": "text/x-python",
   "name": "python",
   "nbconvert_exporter": "python",
   "pygments_lexer": "ipython3",
   "version": "3.10.6"
  },
  "orig_nbformat": 4
 },
 "nbformat": 4,
 "nbformat_minor": 2
}
